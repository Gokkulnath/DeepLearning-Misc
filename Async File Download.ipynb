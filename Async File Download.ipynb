{
 "cells": [
  {
   "cell_type": "code",
   "execution_count": 2,
   "metadata": {},
   "outputs": [],
   "source": [
    "import sys  \n",
    "import asyncio  \n",
    "import aiohttp  \n",
    "import datetime\n",
    "import shutil\n",
    "\n",
    "\n",
    "async def download_image(client, url):  \n",
    "    async with client.get(url) as response:\n",
    "        assert response.status == 200\n",
    "        return await response.con()\n",
    "\n",
    "async def get_fake_faces(client):  \n",
    "    data = await download_image(client, 'https://thispersondoesnotexist.com/image')\n",
    "    path=str(random.randint(1000,100000))+'.jpg'\n",
    "    with open(path, 'wb') as f:\n",
    "        r.raw.decode_content = True\n",
    "        shutil.copyfileobj(r.raw, f)  \n",
    "\n",
    "\n",
    "\n",
    "\n"
   ]
  },
  {
   "cell_type": "code",
   "execution_count": 3,
   "metadata": {},
   "outputs": [],
   "source": [
    "async def main():\n",
    "    print(datetime.datetime.now().strftime(\"%A, %B %d, %I:%M %p\"))\n",
    "    print('---------------------------')\n",
    "    loop = asyncio.get_running_loop()  \n",
    "    async with aiohttp.ClientSession(loop=loop) as client:\n",
    "        await asyncio.gather(get_fake_faces(client)**100)"
   ]
  },
  {
   "cell_type": "code",
   "execution_count": 4,
   "metadata": {},
   "outputs": [
    {
     "data": {
      "text/plain": [
       "<coroutine object main at 0x7f5724068410>"
      ]
     },
     "execution_count": 4,
     "metadata": {},
     "output_type": "execute_result"
    }
   ],
   "source": [
    "main()"
   ]
  },
  {
   "cell_type": "code",
   "execution_count": null,
   "metadata": {},
   "outputs": [],
   "source": []
  }
 ],
 "metadata": {
  "kernelspec": {
   "display_name": "Python (cron-auto)",
   "language": "python",
   "name": "cron-auto"
  },
  "language_info": {
   "codemirror_mode": {
    "name": "ipython",
    "version": 3
   },
   "file_extension": ".py",
   "mimetype": "text/x-python",
   "name": "python",
   "nbconvert_exporter": "python",
   "pygments_lexer": "ipython3",
   "version": "3.6.8"
  }
 },
 "nbformat": 4,
 "nbformat_minor": 2
}
