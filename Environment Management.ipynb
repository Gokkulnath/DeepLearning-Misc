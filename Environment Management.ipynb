{
 "cells": [
  {
   "cell_type": "markdown",
   "metadata": {},
   "source": [
    "## Necessity : \n",
    "- Avoid Seting up the environment each time you Spin up a plain instance. \n",
    "- Instead have a bash script to configure the environment for you\n",
    "- Setup an Alias which activates the environment\n"
   ]
  },
  {
   "cell_type": "markdown",
   "metadata": {},
   "source": [
    "# Blockers:\n",
    "- Handling GPU and CPU Install\n",
    "    - Handling different version of CUDA\n",
    "        - Use System Installed CUDA Version: Find a Command to get the Current CUDA VERSION \n",
    "- Pytorch has "
   ]
  },
  {
   "cell_type": "markdown",
   "metadata": {},
   "source": [
    "# TODO\n",
    "- Creation of Environment using Conda, Virtualenv, Venv\n",
    "- Installation of Ipykernel \n",
    "- Installation of Framework dependencies: Keras, Tensorflow, Pytorch\n",
    "- Clean up Cache Files ('Not Mandatory')\n",
    "\n",
    "- "
   ]
  },
  {
   "cell_type": "code",
   "execution_count": 2,
   "metadata": {},
   "outputs": [],
   "source": [
    "from glob import glob \n",
    "import os \n",
    "source_file = '/bin/activate'"
   ]
  },
  {
   "cell_type": "code",
   "execution_count": 6,
   "metadata": {},
   "outputs": [
    {
     "name": "stdout",
     "output_type": "stream",
     "text": [
      "source envs/ocr-saas/bin/activate && pip install ipykernel && python -m ipykernel install --user --name ocr-saas --display-name \"Python (ocr-saas)\"\n",
      "source envs/django/bin/activate && pip install ipykernel && python -m ipykernel install --user --name django --display-name \"Python (django)\"\n",
      "source envs/flask/bin/activate && pip install ipykernel && python -m ipykernel install --user --name flask --display-name \"Python (flask)\"\n",
      "source envs/telegram/bin/activate && pip install ipykernel && python -m ipykernel install --user --name telegram --display-name \"Python (telegram)\"\n",
      "source envs/tf/bin/activate && pip install ipykernel && python -m ipykernel install --user --name tf --display-name \"Python (tf)\"\n",
      "source envs/pytorch/bin/activate && pip install ipykernel && python -m ipykernel install --user --name pytorch --display-name \"Python (pytorch)\"\n",
      "source envs/cron-auto/bin/activate && pip install ipykernel && python -m ipykernel install --user --name cron-auto --display-name \"Python (cron-auto)\"\n"
     ]
    }
   ],
   "source": [
    "for env in glob('envs/*'):\n",
    "    env_name=env.split('/')[-1]\n",
    "    env_path=env+source_file\n",
    "    print(f'source {env_path} && pip install ipykernel && python -m ipykernel install --user --name {env_name} --display-name \"Python ({env_name})\"')\n",
    "    os.system(f'source {env_path} && pip install ipykernel && python -m ipykernel install --user --name {env_name} --display-name \"Python ({env_name})\"')\n",
    "#     os.system(f'source {env_path} & pip install ipykernel & python -m ipykernel install --user --name {env_name} --display-name \"Python ({env_name})\"')\n",
    "    "
   ]
  },
  {
   "cell_type": "code",
   "execution_count": null,
   "metadata": {},
   "outputs": [],
   "source": [
    "env_type='conda'\n",
    "env_types=['conda','virtualenv','venv']\n",
    "install_method='conda'\n",
    "install_methods=['conda','pip',]\n",
    "framework='pytorch'\n",
    "frameworks=['pytorch','tensorflow','keras','django','flask']"
   ]
  },
  {
   "cell_type": "code",
   "execution_count": null,
   "metadata": {},
   "outputs": [],
   "source": [
    "ENV_CREATE_CONDA=f'conda create -n {env_name} python={py_ver}'\n",
    "ENV_CREATE_VIRTUALENV=f'virtualenv {env_name} -p `which python{py_ver}`'\n",
    "# ENV_CREATE_VENV=f''\n",
    "\n",
    "\n",
    "\n",
    "\n"
   ]
  },
  {
   "cell_type": "code",
   "execution_count": null,
   "metadata": {},
   "outputs": [],
   "source": [
    "python -m ipykernel install --user --name infi --display-name \"Python (infi)\""
   ]
  },
  {
   "cell_type": "code",
   "execution_count": null,
   "metadata": {},
   "outputs": [],
   "source": [
    "# Pytorch Cpnda ENV"
   ]
  }
 ],
 "metadata": {
  "kernelspec": {
   "display_name": "Python 3",
   "language": "python",
   "name": "python3"
  },
  "language_info": {
   "codemirror_mode": {
    "name": "ipython",
    "version": 3
   },
   "file_extension": ".py",
   "mimetype": "text/x-python",
   "name": "python",
   "nbconvert_exporter": "python",
   "pygments_lexer": "ipython3",
   "version": "3.6.8"
  }
 },
 "nbformat": 4,
 "nbformat_minor": 2
}
