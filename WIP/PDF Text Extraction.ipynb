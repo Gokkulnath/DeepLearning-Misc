{
 "cells": [
  {
   "cell_type": "code",
   "execution_count": 1,
   "metadata": {},
   "outputs": [],
   "source": [
    "import PyPDF2"
   ]
  },
  {
   "cell_type": "code",
   "execution_count": 23,
   "metadata": {},
   "outputs": [],
   "source": [
    "pdfFileObj = open('GREold.pdf', 'rb')"
   ]
  },
  {
   "cell_type": "code",
   "execution_count": 24,
   "metadata": {},
   "outputs": [],
   "source": [
    "pdfReader = PyPDF2.PdfFileReader(pdfFileObj)\n"
   ]
  },
  {
   "cell_type": "code",
   "execution_count": 25,
   "metadata": {},
   "outputs": [
    {
     "data": {
      "text/plain": [
       "<PyPDF2.pdf.PdfFileReader at 0x168acaa7e10>"
      ]
     },
     "execution_count": 25,
     "metadata": {},
     "output_type": "execute_result"
    }
   ],
   "source": [
    "pdfReader"
   ]
  },
  {
   "cell_type": "code",
   "execution_count": 26,
   "metadata": {},
   "outputs": [
    {
     "data": {
      "text/plain": [
       "1089"
      ]
     },
     "execution_count": 26,
     "metadata": {},
     "output_type": "execute_result"
    }
   ],
   "source": [
    "pdfReader.numPages"
   ]
  },
  {
   "cell_type": "code",
   "execution_count": null,
   "metadata": {},
   "outputs": [],
   "source": []
  },
  {
   "cell_type": "code",
   "execution_count": 27,
   "metadata": {},
   "outputs": [],
   "source": [
    "def getPageContents(pgno=0,pdfReader=pdfReader):\n",
    "    pageObj = pdfReader.getPage(pgno)\n",
    "    return pageObj.extractText()"
   ]
  },
  {
   "cell_type": "code",
   "execution_count": 31,
   "metadata": {},
   "outputs": [
    {
     "data": {
      "text/plain": [
       "'Directions: In each of the following questions, a related pair of words or phrases is followed by five lettered pairs of words or phrases. Select the lettered pair that best expresses a relationship similar to that expressed in the original pair. 8. EXERCISE: STRONG :: (A) perform: shy (B) watch: alert (C) decide: astute (D) drink: thirsty (E) read: knowledgeable 9. COWARD: BRAVE :: (A) hero: cynical (B) martyr: impatient (C) philanthropist: selfish (D) agnostic: intuitive (E) traitor: careful 10. CREDITS: MOVIE :: (A) byline: article (B) copyright: song (C) rehearsal: dance (D) dedication: book (E) ti tIe: work 11. COMPENDIUM: SUMMARY:: (A) anthology: collection (B) encyclopedia: knowledge (C) dissertation: collaboration (D) brochure: solicitation (E) precis: paragraph 12. COHABIT: RESIDE :: (A) conspire: plot (B) coincide: contradict (C) secrete: conceal (D) infiltrate: influence (E) frame: incriminate 749 13. CACOPHONY: SOUND :: (A) crescendo: music (B) friction: heat (C) ripple: liquid (D) glare: light (E) meter: measurement 14. STRATAGEM: DECEIVE :: (A) epithet: correspond (B) oration: publish (C) conservation: expend (D) concession: placate (E) sentence: prosecute 15. SPECIOUS: GENUINENESS :: (A) illusory: reality (B) impulsive: purposefulness (C) precipitate: speed (D) cunning: duplicity (E) imaginary: mind 16. DECLAMATION: GRANDILOQUENCE:: (A) exclamation: importance (B) proclamation: consent (C) diatribe: abuse (D) question: insistence (E) provocation: betrayal GO ON TO THE NEXT PAGE. '"
      ]
     },
     "execution_count": 31,
     "metadata": {},
     "output_type": "execute_result"
    }
   ],
   "source": [
    "out=getPageContents(750)\n",
    "out"
   ]
  },
  {
   "cell_type": "code",
   "execution_count": 32,
   "metadata": {},
   "outputs": [
    {
     "data": {
      "text/plain": [
       "['Directions: In each of the following questions, a related pair of words or phrases is followed by five lettered pairs of words or phrases',\n",
       " 'Select the lettered pair that best expresses a relationship similar to that expressed in the original pair',\n",
       " '8',\n",
       " 'EXERCISE: STRONG :: (A) perform: shy (B) watch: alert (C) decide: astute (D) drink: thirsty (E) read: knowledgeable 9',\n",
       " 'COWARD: BRAVE :: (A) hero: cynical (B) martyr: impatient (C) philanthropist: selfish (D) agnostic: intuitive (E) traitor: careful 10',\n",
       " 'CREDITS: MOVIE :: (A) byline: article (B) copyright: song (C) rehearsal: dance (D) dedication: book (E) ti tIe: work 11',\n",
       " 'COMPENDIUM: SUMMARY:: (A) anthology: collection (B) encyclopedia: knowledge (C) dissertation: collaboration (D) brochure: solicitation (E) precis: paragraph 12',\n",
       " 'COHABIT: RESIDE :: (A) conspire: plot (B) coincide: contradict (C) secrete: conceal (D) infiltrate: influence (E) frame: incriminate 749 13',\n",
       " 'CACOPHONY: SOUND :: (A) crescendo: music (B) friction: heat (C) ripple: liquid (D) glare: light (E) meter: measurement 14',\n",
       " 'STRATAGEM: DECEIVE :: (A) epithet: correspond (B) oration: publish (C) conservation: expend (D) concession: placate (E) sentence: prosecute 15',\n",
       " 'SPECIOUS: GENUINENESS :: (A) illusory: reality (B) impulsive: purposefulness (C) precipitate: speed (D) cunning: duplicity (E) imaginary: mind 16',\n",
       " 'DECLAMATION: GRANDILOQUENCE:: (A) exclamation: importance (B) proclamation: consent (C) diatribe: abuse (D) question: insistence (E) provocation: betrayal GO ON TO THE NEXT PAGE',\n",
       " '']"
      ]
     },
     "execution_count": 32,
     "metadata": {},
     "output_type": "execute_result"
    }
   ],
   "source": [
    "out.split('. ')"
   ]
  },
  {
   "cell_type": "code",
   "execution_count": 22,
   "metadata": {},
   "outputs": [
    {
     "name": "stdout",
     "output_type": "stream",
     "text": [
      "\n",
      "\n",
      "\n",
      "\n",
      "\n",
      "\n",
      "\n",
      "\n",
      "\n",
      "\n",
      "\n",
      "\n",
      "\n"
     ]
    }
   ],
   "source": [
    "for i in range(pdfReader.numPages):\n",
    "    print(getPageContents(i))"
   ]
  },
  {
   "cell_type": "code",
   "execution_count": null,
   "metadata": {},
   "outputs": [],
   "source": []
  }
 ],
 "metadata": {
  "kernelspec": {
   "display_name": "Python 3",
   "language": "python",
   "name": "python3"
  },
  "language_info": {
   "codemirror_mode": {
    "name": "ipython",
    "version": 3
   },
   "file_extension": ".py",
   "mimetype": "text/x-python",
   "name": "python",
   "nbconvert_exporter": "python",
   "pygments_lexer": "ipython3",
   "version": "3.7.3"
  }
 },
 "nbformat": 4,
 "nbformat_minor": 2
}
