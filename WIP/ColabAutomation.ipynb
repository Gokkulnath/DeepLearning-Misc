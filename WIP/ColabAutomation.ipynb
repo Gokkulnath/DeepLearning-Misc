{
 "cells": [
  {
   "cell_type": "code",
   "execution_count": 1,
   "metadata": {},
   "outputs": [],
   "source": [
    "# imports\n",
    "import selenium\n",
    "from selenium.webdriver import Chrome,ChromeOptions\n",
    "import time\n",
    "from selenium.webdriver.common.keys import Keys\n"
   ]
  },
  {
   "cell_type": "code",
   "execution_count": 2,
   "metadata": {},
   "outputs": [],
   "source": [
    "options = ChromeOptions()\n",
    "options.add_argument(\"--headless\") # Runs Chrome in headless mode.\n",
    "options.add_argument('--no-sandbox') # Bypass OS security model\n",
    "options.add_argument('--disable-gpu')  # applicable to windows os only\n",
    "options.add_argument('start-maximized') # \n",
    "options.add_argument('disable-infobars')\n",
    "options.add_argument(\"--disable-extensions\")\n",
    "browser=Chrome(chrome_options=options)\n",
    "options.set_headless()"
   ]
  },
  {
   "cell_type": "markdown",
   "metadata": {},
   "source": [
    "browser=Chrome()\n",
    "browser.maximize_window()\n",
    "time.sleep(3)"
   ]
  },
  {
   "cell_type": "markdown",
   "metadata": {},
   "source": [
    "#Sign in and Account Setup\n",
    "import getpass \n",
    "\n",
    "\n",
    "user=getpass.getuser()\n",
    "passwd=getpass.getpass()"
   ]
  },
  {
   "cell_type": "code",
   "execution_count": 4,
   "metadata": {},
   "outputs": [],
   "source": [
    "browser.get('https://colab.research.google.com/notebook#fileId=/v2/external/notebooks/welcome.ipynb&recent=true')"
   ]
  },
  {
   "cell_type": "code",
   "execution_count": 5,
   "metadata": {},
   "outputs": [],
   "source": [
    "# Sign in Automation\n",
    "\n",
    "btn_signin=browser.find_element_by_xpath('//a[@target=\"_top\"]')\n",
    "\n",
    "btn_signin.click()"
   ]
  },
  {
   "cell_type": "code",
   "execution_count": 6,
   "metadata": {},
   "outputs": [],
   "source": [
    "time.sleep(2)\n",
    "x_email=browser.find_element_by_xpath('//input[@type=\"email\"]')\n",
    "x_email.send_keys('gokkulnath.ericsson@gmail.com')\n",
    "btn_next=browser.find_element_by_xpath('//div[@id=\"identifierNext\"]/span/span')\n",
    "btn_next.click()"
   ]
  },
  {
   "cell_type": "code",
   "execution_count": 7,
   "metadata": {},
   "outputs": [],
   "source": [
    "time.sleep(2)\n",
    "x_pass=browser.find_element_by_xpath('//input[@type=\"password\"]')\n",
    "x_pass.send_keys('Ericsson123@')\n",
    "btn_next=browser.find_element_by_xpath('//div[@id=\"passwordNext\"]/span/span')\n",
    "btn_next.click()"
   ]
  },
  {
   "cell_type": "code",
   "execution_count": 8,
   "metadata": {},
   "outputs": [],
   "source": [
    "# Get the notebook URL\n",
    "time.sleep(1)\n",
    "browser.get('https://colab.research.google.com/drive/1braN9k8_z2XCDBQK9DCNmXycu7w_7OWf')"
   ]
  },
  {
   "cell_type": "code",
   "execution_count": 9,
   "metadata": {},
   "outputs": [],
   "source": [
    "try:\n",
    "    new_popup_dismiss=browser.find_element_by_xpath('//paper-button[@id=\"dismiss\"]')\n",
    "    new_popup_dismiss.click()\n",
    "except:\n",
    "    pass\n",
    "\n",
    "    "
   ]
  },
  {
   "cell_type": "code",
   "execution_count": 10,
   "metadata": {},
   "outputs": [],
   "source": [
    "time.sleep(5)\n",
    "# Connect Button\n",
    "connect_btn=browser.find_element_by_xpath('//colab-toolbar-button[@id=\"connect\"]/paper-button/span')\n",
    "connect_btn.click()"
   ]
  },
  {
   "cell_type": "code",
   "execution_count": 11,
   "metadata": {},
   "outputs": [],
   "source": [
    "element=browser.find_element_by_xpath(\"//body\")\n",
    "element.send_keys(Keys.CONTROL, Keys.F9)\n"
   ]
  },
  {
   "cell_type": "markdown",
   "metadata": {},
   "source": [
    "output=browser.find_element_by_xpath('//div[@class=\"output-content\"]')"
   ]
  },
  {
   "cell_type": "markdown",
   "metadata": {},
   "source": [
    "auth_key='7LtZZDiw4iSkupfwX8GAA_3sc5xsa2gBiUnQr8wUhza'"
   ]
  },
  {
   "cell_type": "code",
   "execution_count": null,
   "metadata": {},
   "outputs": [],
   "source": []
  },
  {
   "cell_type": "markdown",
   "metadata": {},
   "source": [
    "# Teardown"
   ]
  },
  {
   "cell_type": "markdown",
   "metadata": {},
   "source": [
    "print(\"Closing the Browser\")\n",
    "browser.close()"
   ]
  },
  {
   "cell_type": "code",
   "execution_count": null,
   "metadata": {},
   "outputs": [],
   "source": []
  }
 ],
 "metadata": {
  "kernelspec": {
   "display_name": "Python 3",
   "language": "python",
   "name": "python3"
  },
  "language_info": {
   "codemirror_mode": {
    "name": "ipython",
    "version": 3
   },
   "file_extension": ".py",
   "mimetype": "text/x-python",
   "name": "python",
   "nbconvert_exporter": "python",
   "pygments_lexer": "ipython3",
   "version": "3.7.3"
  }
 },
 "nbformat": 4,
 "nbformat_minor": 2
}
