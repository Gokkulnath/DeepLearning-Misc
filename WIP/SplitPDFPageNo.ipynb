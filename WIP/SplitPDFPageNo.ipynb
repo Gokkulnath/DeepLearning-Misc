{
 "cells": [
  {
   "cell_type": "code",
   "execution_count": 1,
   "metadata": {},
   "outputs": [],
   "source": [
    "import PyPDF2"
   ]
  },
  {
   "cell_type": "code",
   "execution_count": 12,
   "metadata": {},
   "outputs": [],
   "source": [
    "# Reading Pages\n",
    "from PyPDF2 import PdfFileReader\n",
    "\n",
    "pdf_fh= open('GREold.pdf','rb')\n",
    "pdf=PdfFileReader(pdf_fh)"
   ]
  },
  {
   "cell_type": "code",
   "execution_count": 13,
   "metadata": {},
   "outputs": [
    {
     "data": {
      "text/plain": [
       "1089"
      ]
     },
     "execution_count": 13,
     "metadata": {},
     "output_type": "execute_result"
    }
   ],
   "source": [
    "pdf.numPages"
   ]
  },
  {
   "cell_type": "code",
   "execution_count": 16,
   "metadata": {},
   "outputs": [
    {
     "data": {
      "text/plain": [
       "{'/Contents': {'/Filter': '/FlateDecode'},\n",
       " '/CropBox': [0, 0, 595, 795],\n",
       " '/MediaBox': [0, 0, 595, 795],\n",
       " '/Parent': {'/Count': 5,\n",
       "  '/Kids': [IndirectObject(641, 0),\n",
       "   IndirectObject(648, 0),\n",
       "   IndirectObject(653, 0),\n",
       "   IndirectObject(660, 0),\n",
       "   IndirectObject(666, 0)],\n",
       "  '/Parent': {'/Count': 25,\n",
       "   '/Kids': [IndirectObject(14198, 0),\n",
       "    IndirectObject(14199, 0),\n",
       "    IndirectObject(14200, 0),\n",
       "    IndirectObject(14201, 0),\n",
       "    IndirectObject(14202, 0)],\n",
       "   '/Parent': {'/Count': 214,\n",
       "    '/Kids': [IndirectObject(14177, 0),\n",
       "     IndirectObject(14185, 0),\n",
       "     IndirectObject(14191, 0),\n",
       "     IndirectObject(14197, 0),\n",
       "     IndirectObject(14203, 0),\n",
       "     IndirectObject(14209, 0),\n",
       "     IndirectObject(14215, 0),\n",
       "     IndirectObject(14221, 0)],\n",
       "    '/Parent': {'/Count': 1089,\n",
       "     '/Kids': [IndirectObject(14176, 0),\n",
       "      IndirectObject(14227, 0),\n",
       "      IndirectObject(14258, 0),\n",
       "      IndirectObject(14289, 0),\n",
       "      IndirectObject(14320, 0),\n",
       "      IndirectObject(14351, 0),\n",
       "      IndirectObject(14382, 0),\n",
       "      IndirectObject(14413, 0)],\n",
       "     '/Type': '/Pages'},\n",
       "    '/Type': '/Pages'},\n",
       "   '/Type': '/Pages'},\n",
       "  '/Type': '/Pages'},\n",
       " '/Resources': {'/Font': {'/C0_0': {'/BaseFont': '/HiddenHorzOCR',\n",
       "    '/DescendantFonts': [IndirectObject(8330, 0)],\n",
       "    '/Encoding': '/Identity-H',\n",
       "    '/Subtype': '/Type0',\n",
       "    '/ToUnicode': {'/Filter': '/FlateDecode'},\n",
       "    '/Type': '/Font'},\n",
       "   '/T1_0': {'/BaseFont': '/Times-Roman',\n",
       "    '/Encoding': '/WinAnsiEncoding',\n",
       "    '/Subtype': '/Type1',\n",
       "    '/Type': '/Font'},\n",
       "   '/T1_1': {'/BaseFont': '/Helvetica',\n",
       "    '/Encoding': '/WinAnsiEncoding',\n",
       "    '/Subtype': '/Type1',\n",
       "    '/Type': '/Font'},\n",
       "   '/T1_2': {'/BaseFont': '/Helvetica-Oblique',\n",
       "    '/Encoding': '/WinAnsiEncoding',\n",
       "    '/Subtype': '/Type1',\n",
       "    '/Type': '/Font'},\n",
       "   '/T1_3': {'/BaseFont': '/Times-Italic',\n",
       "    '/Encoding': '/WinAnsiEncoding',\n",
       "    '/Subtype': '/Type1',\n",
       "    '/Type': '/Font'}},\n",
       "  '/ProcSet': ['/PDF', '/Text', '/ImageB'],\n",
       "  '/XObject': {'/Im0': {'/BitsPerComponent': 1,\n",
       "    '/DecodeParms': {'/JBIG2Globals': {}},\n",
       "    '/Filter': '/JBIG2Decode',\n",
       "    '/Height': 3680,\n",
       "    '/ImageMask': <PyPDF2.generic.BooleanObject at 0x1fccc451fd0>,\n",
       "    '/Subtype': '/Image',\n",
       "    '/Width': 2816}}},\n",
       " '/Rotate': 0,\n",
       " '/Type': '/Page'}"
      ]
     },
     "execution_count": 16,
     "metadata": {},
     "output_type": "execute_result"
    }
   ],
   "source": [
    "page = pdf.getPage(100)\n",
    "page"
   ]
  },
  {
   "cell_type": "code",
   "execution_count": null,
   "metadata": {},
   "outputs": [],
   "source": []
  }
 ],
 "metadata": {
  "kernelspec": {
   "display_name": "Python 3",
   "language": "python",
   "name": "python3"
  },
  "language_info": {
   "codemirror_mode": {
    "name": "ipython",
    "version": 3
   },
   "file_extension": ".py",
   "mimetype": "text/x-python",
   "name": "python",
   "nbconvert_exporter": "python",
   "pygments_lexer": "ipython3",
   "version": "3.7.3"
  }
 },
 "nbformat": 4,
 "nbformat_minor": 2
}
