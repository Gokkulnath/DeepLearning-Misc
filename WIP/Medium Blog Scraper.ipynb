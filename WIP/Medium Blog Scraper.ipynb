{
 "cells": [
  {
   "cell_type": "code",
   "execution_count": 47,
   "metadata": {},
   "outputs": [],
   "source": [
    "from selenium import webdriver\n",
    "import json\n",
    "import selenium\n",
    "from selenium.webdriver import Chrome\n",
    "import time\n",
    "\n",
    "chrome_options = webdriver.ChromeOptions()\n",
    "settings = {\n",
    "       \"recentDestinations\": [{\n",
    "            \"id\": \"Save as PDF\",\n",
    "            \"origin\": \"local\",\n",
    "            \"account\": \"\",\n",
    "        }],\n",
    "        \"selectedDestinationId\": \"Save as PDF\",\n",
    "        \"version\": 2\n",
    "    }\n",
    "prefs = {'printing.print_preview_sticky_settings.appState': json.dumps(settings)}\n",
    "chrome_options.add_experimental_option('prefs', prefs)\n",
    "chrome_options.add_argument('--kiosk-printing')\n"
   ]
  },
  {
   "cell_type": "code",
   "execution_count": 71,
   "metadata": {},
   "outputs": [],
   "source": [
    "def scroll2end(browser,sleep_time=3,infinite=True):\n",
    "    if infinite:\n",
    "        lenOfPage = browser.execute_script(\"window.scrollTo(0, document.body.scrollHeight);var lenOfPage=document.body.scrollHeight;return lenOfPage;\")\n",
    "        match=False\n",
    "        while(match==False):\n",
    "            lastCount = lenOfPage\n",
    "            time.sleep(sleep_time)\n",
    "            lenOfPage = browser.execute_script(\"window.scrollTo(0, document.body.scrollHeight);var lenOfPage=document.body.scrollHeight;return lenOfPage;\")\n",
    "            if lastCount==lenOfPage:\n",
    "                match=True\n",
    "                print('Done Scrolling')\n",
    "    else:\n",
    "        lenOfPage = browser.execute_script(\"window.scrollTo(0, document.body.scrollHeight);var lenOfPage=document.body.scrollHeight;return lenOfPage;\")\n",
    "        match=False\n",
    "        while(match==False):\n",
    "            lastCount = lenOfPage\n",
    "            time.sleep(sleep_time)\n",
    "            lenOfPage = browser.execute_script(\"window.scrollTo(0, 720);var lenOfPage=document.body.scrollHeight;return lenOfPage;\")\n",
    "            if lastCount==lenOfPage:\n",
    "                match=True\n",
    "                print('Done Scrolling')"
   ]
  },
  {
   "cell_type": "code",
   "execution_count": 49,
   "metadata": {},
   "outputs": [
    {
     "name": "stderr",
     "output_type": "stream",
     "text": [
      "C:\\Users\\egokkul\\AppData\\Local\\Continuum\\anaconda3\\lib\\site-packages\\ipykernel_launcher.py:1: DeprecationWarning: use options instead of chrome_options\n",
      "  \"\"\"Entry point for launching an IPython kernel.\n"
     ]
    }
   ],
   "source": [
    "browser = webdriver.Chrome(chrome_options=chrome_options)\n",
    "browser.get('https://medium.com/@sh.tsang')\n",
    "time.sleep(5)"
   ]
  },
  {
   "cell_type": "code",
   "execution_count": 50,
   "metadata": {},
   "outputs": [
    {
     "name": "stdout",
     "output_type": "stream",
     "text": [
      "Done Scrolling\n"
     ]
    }
   ],
   "source": [
    "scroll2end(browser)"
   ]
  },
  {
   "cell_type": "code",
   "execution_count": 51,
   "metadata": {},
   "outputs": [],
   "source": [
    "time.sleep(5)\n",
    "headings=browser.find_elements_by_xpath('//a[@rel=\"noopener\"]')"
   ]
  },
  {
   "cell_type": "code",
   "execution_count": 57,
   "metadata": {},
   "outputs": [
    {
     "data": {
      "text/plain": [
       "1044"
      ]
     },
     "execution_count": 57,
     "metadata": {},
     "output_type": "execute_result"
    }
   ],
   "source": [
    "len(headings)"
   ]
  },
  {
   "cell_type": "code",
   "execution_count": 61,
   "metadata": {},
   "outputs": [],
   "source": [
    "review_articles=[element.get_attribute('href') for element in headings if '/review-' in element.get_attribute('href')]"
   ]
  },
  {
   "cell_type": "code",
   "execution_count": 45,
   "metadata": {},
   "outputs": [],
   "source": [
    "element=headings[3]"
   ]
  },
  {
   "cell_type": "code",
   "execution_count": 62,
   "metadata": {},
   "outputs": [
    {
     "name": "stdout",
     "output_type": "stream",
     "text": [
      "Total number of Articles are : 252\n"
     ]
    }
   ],
   "source": [
    "print(\"Total number of Articles are :\",len(review_articles))\n"
   ]
  },
  {
   "cell_type": "code",
   "execution_count": 63,
   "metadata": {},
   "outputs": [
    {
     "data": {
      "text/plain": [
       "['https://medium.com/towards-artificial-intelligence/review-ief-iterative-error-feedback-human-pose-estimation-a56add160fa5?source=---------2------------------',\n",
       " 'https://medium.com/towards-artificial-intelligence/review-ief-iterative-error-feedback-human-pose-estimation-a56add160fa5?source=---------2------------------',\n",
       " 'https://medium.com/@sh.tsang/review-fcgn-fully-convolutional-google-net-human-pose-estimation-52022a359cb3?source=---------3------------------',\n",
       " 'https://medium.com/@sh.tsang/review-fcgn-fully-convolutional-google-net-human-pose-estimation-52022a359cb3?source=---------3------------------',\n",
       " 'https://medium.com/towards-artificial-intelligence/review-dunet-deformable-u-net-for-retinal-vessels-segmentation-biomedical-image-segmentation-fc0c2f72bb19?source=---------4------------------',\n",
       " 'https://medium.com/towards-artificial-intelligence/review-dunet-deformable-u-net-for-retinal-vessels-segmentation-biomedical-image-segmentation-fc0c2f72bb19?source=---------4------------------',\n",
       " 'https://medium.com/@sh.tsang/review-h-denseunet-2d-3d-denseunet-for-intra-inter-slice-features-biomedical-image-f3e526e81fe7?source=---------5------------------',\n",
       " 'https://medium.com/@sh.tsang/review-h-denseunet-2d-3d-denseunet-for-intra-inter-slice-features-biomedical-image-f3e526e81fe7?source=---------5------------------',\n",
       " 'https://medium.com/@sh.tsang/review-unet-a-nested-u-net-architecture-biomedical-image-segmentation-57be56859b20?source=---------6------------------',\n",
       " 'https://medium.com/@sh.tsang/review-unet-a-nested-u-net-architecture-biomedical-image-segmentation-57be56859b20?source=---------6------------------',\n",
       " 'https://medium.com/@sh.tsang/review-densevoxnet-volumetric-brain-segmentation-biomedical-image-segmentation-9136bb6128dd?source=---------7------------------',\n",
       " 'https://medium.com/@sh.tsang/review-densevoxnet-volumetric-brain-segmentation-biomedical-image-segmentation-9136bb6128dd?source=---------7------------------',\n",
       " 'https://medium.com/@sh.tsang/review-voxresnet-deep-voxelwise-residual-networks-for-volumetric-brain-segmentation-biomedical-4986df62f590?source=---------8------------------',\n",
       " 'https://medium.com/@sh.tsang/review-voxresnet-deep-voxelwise-residual-networks-for-volumetric-brain-segmentation-biomedical-4986df62f590?source=---------8------------------',\n",
       " 'https://medium.com/@sh.tsang/review-deeplabv3-atrous-separable-convolution-semantic-segmentation-a625f6e83b90?source=---------9------------------',\n",
       " 'https://medium.com/@sh.tsang/review-deeplabv3-atrous-separable-convolution-semantic-segmentation-a625f6e83b90?source=---------9------------------',\n",
       " 'https://medium.com/@sh.tsang/review-sr-stn-super-resolution-based-on-geometric-similarity-bd873af3c85d?source=---------10------------------',\n",
       " 'https://medium.com/@sh.tsang/review-sr-stn-super-resolution-based-on-geometric-similarity-bd873af3c85d?source=---------10------------------',\n",
       " 'https://medium.com/@sh.tsang/review-ru-net-r2u-net-recurrent-residual-convolutional-neural-network-medical-image-38945a957df1?source=---------11------------------',\n",
       " 'https://medium.com/@sh.tsang/review-ru-net-r2u-net-recurrent-residual-convolutional-neural-network-medical-image-38945a957df1?source=---------11------------------',\n",
       " 'https://medium.com/@sh.tsang/review-attention-u-net-learning-where-to-look-for-the-pancreas-biomedical-image-segmentation-e5f4699daf9f?source=---------12------------------',\n",
       " 'https://medium.com/@sh.tsang/review-attention-u-net-learning-where-to-look-for-the-pancreas-biomedical-image-segmentation-e5f4699daf9f?source=---------12------------------',\n",
       " 'https://medium.com/@sh.tsang/review-gan-generative-adversarial-nets-gan-e12793e1fb75?source=---------13------------------',\n",
       " 'https://medium.com/@sh.tsang/review-gan-generative-adversarial-nets-gan-e12793e1fb75?source=---------13------------------',\n",
       " 'https://medium.com/@sh.tsang/review-coarse-to-fine-3d-u-net-multi-organ-segmentation-biomedical-image-segmentation-37a419fb963b?source=---------14------------------',\n",
       " 'https://medium.com/@sh.tsang/review-coarse-to-fine-3d-u-net-multi-organ-segmentation-biomedical-image-segmentation-37a419fb963b?source=---------14------------------',\n",
       " 'https://medium.com/@sh.tsang/review-resnet-duc-hdc-dense-upsampling-convolution-and-hybrid-dilated-convolution-semantic-c4208227b1ca?source=---------15------------------',\n",
       " 'https://medium.com/@sh.tsang/review-resnet-duc-hdc-dense-upsampling-convolution-and-hybrid-dilated-convolution-semantic-c4208227b1ca?source=---------15------------------',\n",
       " 'https://medium.com/@sh.tsang/review-dis-dual-image-segmentation-semantic-segmentation-103477de6cbf?source=---------18------------------',\n",
       " 'https://medium.com/@sh.tsang/review-dis-dual-image-segmentation-semantic-segmentation-103477de6cbf?source=---------18------------------',\n",
       " 'https://medium.com/@sh.tsang/review-ds-cnn-decode-side-scalable-cnn-codec-post-processing-4bd85a4cfcfd?source=---------19------------------',\n",
       " 'https://medium.com/@sh.tsang/review-ds-cnn-decode-side-scalable-cnn-codec-post-processing-4bd85a4cfcfd?source=---------19------------------',\n",
       " 'https://medium.com/@sh.tsang/review-dcad-deep-cnn-based-auto-decoder-codec-post-processing-e05a8f15f0c6?source=---------20------------------',\n",
       " 'https://medium.com/@sh.tsang/review-dcad-deep-cnn-based-auto-decoder-codec-post-processing-e05a8f15f0c6?source=---------20------------------',\n",
       " 'https://medium.com/@sh.tsang/review-vrcnn-variable-filter-size-residue-learning-cnn-codec-post-processing-4a8a337ea73c?source=---------21------------------',\n",
       " 'https://medium.com/@sh.tsang/review-vrcnn-variable-filter-size-residue-learning-cnn-codec-post-processing-4a8a337ea73c?source=---------21------------------',\n",
       " 'https://medium.com/@sh.tsang/review-ifcnn-in-loop-filtering-using-convolutional-neural-network-codec-post-processing-1b89c8ddf417?source=---------22------------------',\n",
       " 'https://medium.com/@sh.tsang/review-ifcnn-in-loop-filtering-using-convolutional-neural-network-codec-post-processing-1b89c8ddf417?source=---------22------------------',\n",
       " 'https://medium.com/@sh.tsang/review-cnn-for-h-264-hevc-compressed-image-deblocking-codec-post-processing-361a84e65b94?source=---------23------------------',\n",
       " 'https://medium.com/@sh.tsang/review-cnn-for-h-264-hevc-compressed-image-deblocking-codec-post-processing-361a84e65b94?source=---------23------------------',\n",
       " 'https://medium.com/@sh.tsang/review-cnn-for-compressed-image-deblocking-deblocking-44508bf99bdc?source=---------24------------------',\n",
       " 'https://medium.com/@sh.tsang/review-cnn-for-compressed-image-deblocking-deblocking-44508bf99bdc?source=---------24------------------',\n",
       " 'https://medium.com/@sh.tsang/review-sdn-stacked-deconvolutional-network-using-densenet-semantic-segmentation-f929c94906b?source=---------25------------------',\n",
       " 'https://medium.com/@sh.tsang/review-sdn-stacked-deconvolutional-network-using-densenet-semantic-segmentation-f929c94906b?source=---------25------------------',\n",
       " 'https://towardsdatascience.com/review-idw-cnn-learning-from-image-descriptions-in-the-wild-dataset-boosts-the-accuracy-807eb5ffe371?source=---------26------------------',\n",
       " 'https://towardsdatascience.com/review-idw-cnn-learning-from-image-descriptions-in-the-wild-dataset-boosts-the-accuracy-807eb5ffe371?source=---------26------------------',\n",
       " 'https://towardsdatascience.com/review-fc-densenet-one-hundred-layer-tiramisu-semantic-segmentation-22ee3be434d5?source=---------27------------------',\n",
       " 'https://towardsdatascience.com/review-fc-densenet-one-hundred-layer-tiramisu-semantic-segmentation-22ee3be434d5?source=---------27------------------',\n",
       " 'https://towardsdatascience.com/review-deep-layer-cascade-lc-not-all-pixels-are-equal-semantic-segmentation-cb29ec71b1a5?source=---------28------------------',\n",
       " 'https://towardsdatascience.com/review-deep-layer-cascade-lc-not-all-pixels-are-equal-semantic-segmentation-cb29ec71b1a5?source=---------28------------------',\n",
       " 'https://towardsdatascience.com/review-mobilenetv2-light-weight-model-image-classification-8febb490e61c?source=---------29------------------',\n",
       " 'https://towardsdatascience.com/review-mobilenetv2-light-weight-model-image-classification-8febb490e61c?source=---------29------------------',\n",
       " 'https://medium.com/@sh.tsang/review-nasnet-neural-architecture-search-network-image-classification-23139ea0425d?source=---------30------------------',\n",
       " 'https://medium.com/@sh.tsang/review-nasnet-neural-architecture-search-network-image-classification-23139ea0425d?source=---------30------------------',\n",
       " 'https://medium.com/@sh.tsang/review-dmrnet-dfn-mr-merge-and-run-mappings-image-classification-493080a4b8ae?source=---------31------------------',\n",
       " 'https://medium.com/@sh.tsang/review-dmrnet-dfn-mr-merge-and-run-mappings-image-classification-493080a4b8ae?source=---------31------------------',\n",
       " 'https://medium.com/@sh.tsang/review-igcnet-igcv1-interleaved-group-convolutions-image-classification-7421d2a1dede?source=---------35------------------',\n",
       " 'https://medium.com/@sh.tsang/review-igcnet-igcv1-interleaved-group-convolutions-image-classification-7421d2a1dede?source=---------35------------------',\n",
       " 'https://towardsdatascience.com/review-shake-shake-regularization-image-classification-d22bb8587953?source=---------36------------------',\n",
       " 'https://towardsdatascience.com/review-shake-shake-regularization-image-classification-d22bb8587953?source=---------36------------------',\n",
       " 'https://medium.com/@sh.tsang/review-cpm-convolutional-pose-machines-human-pose-estimation-224cfeb70aac?source=---------37------------------',\n",
       " 'https://medium.com/@sh.tsang/review-cpm-convolutional-pose-machines-human-pose-estimation-224cfeb70aac?source=---------37------------------',\n",
       " 'https://towardsdatascience.com/review-qsa-qnt-neural-network-with-incremental-quantization-biomedical-image-segmentation-d9713daf9e0d?source=---------38------------------',\n",
       " 'https://towardsdatascience.com/review-qsa-qnt-neural-network-with-incremental-quantization-biomedical-image-segmentation-d9713daf9e0d?source=---------38------------------',\n",
       " 'https://towardsdatascience.com/review-senet-squeeze-and-excitation-network-winner-of-ilsvrc-2017-image-classification-a887b98b2883?source=---------39------------------',\n",
       " 'https://towardsdatascience.com/review-senet-squeeze-and-excitation-network-winner-of-ilsvrc-2017-image-classification-a887b98b2883?source=---------39------------------',\n",
       " 'https://towardsdatascience.com/review-3d-u-net-resnet-volumetric-convolutions-long-short-residual-connections-biomedical-3a7da3f98dae?source=---------40------------------',\n",
       " 'https://towardsdatascience.com/review-3d-u-net-resnet-volumetric-convolutions-long-short-residual-connections-biomedical-3a7da3f98dae?source=---------40------------------',\n",
       " 'https://towardsdatascience.com/review-shufflenet-v1-light-weight-model-image-classification-5b253dfe982f?source=---------41------------------',\n",
       " 'https://towardsdatascience.com/review-shufflenet-v1-light-weight-model-image-classification-5b253dfe982f?source=---------41------------------',\n",
       " 'https://towardsdatascience.com/review-maxout-network-image-classification-40ecd77f7ce4?source=---------42------------------',\n",
       " 'https://towardsdatascience.com/review-maxout-network-image-classification-40ecd77f7ce4?source=---------42------------------',\n",
       " 'https://towardsdatascience.com/review-nin-network-in-network-image-classification-69e271e499ee?source=---------43------------------',\n",
       " 'https://towardsdatascience.com/review-nin-network-in-network-image-classification-69e271e499ee?source=---------43------------------',\n",
       " 'https://towardsdatascience.com/review-gcn-global-convolutional-network-large-kernel-matters-semantic-segmentation-c830073492d2?source=---------44------------------',\n",
       " 'https://towardsdatascience.com/review-gcn-global-convolutional-network-large-kernel-matters-semantic-segmentation-c830073492d2?source=---------44------------------',\n",
       " 'https://towardsdatascience.com/review-squeezenet-image-classification-e7414825581a?source=---------45------------------',\n",
       " 'https://towardsdatascience.com/review-squeezenet-image-classification-e7414825581a?source=---------45------------------',\n",
       " 'https://towardsdatascience.com/review-suggestive-annotation-deep-active-learning-framework-biomedical-image-segmentation-e08e4b931ea6?source=---------46------------------',\n",
       " 'https://towardsdatascience.com/review-suggestive-annotation-deep-active-learning-framework-biomedical-image-segmentation-e08e4b931ea6?source=---------46------------------',\n",
       " 'https://towardsdatascience.com/review-hikvision-1st-runner-up-in-ilsvrc-2016-object-detection-1f0a42cda767?source=---------47------------------',\n",
       " 'https://towardsdatascience.com/review-hikvision-1st-runner-up-in-ilsvrc-2016-object-detection-1f0a42cda767?source=---------47------------------',\n",
       " 'https://towardsdatascience.com/review-m%C2%B2fcn-multi-stage-multi-recursive-input-fully-convolutional-networks-biomedical-image-4f8d5e3f07f1?source=---------48------------------',\n",
       " 'https://towardsdatascience.com/review-m%C2%B2fcn-multi-stage-multi-recursive-input-fully-convolutional-networks-biomedical-image-4f8d5e3f07f1?source=---------48------------------',\n",
       " 'https://towardsdatascience.com/review-residual-attention-network-attention-aware-features-image-classification-7ae44c4f4b8?source=---------49------------------',\n",
       " 'https://towardsdatascience.com/review-residual-attention-network-attention-aware-features-image-classification-7ae44c4f4b8?source=---------49------------------',\n",
       " 'https://towardsdatascience.com/review-tompson-cvpr15-spatial-dropout-human-pose-estimation-c7d6a5cecd8c?source=---------50------------------',\n",
       " 'https://towardsdatascience.com/review-tompson-cvpr15-spatial-dropout-human-pose-estimation-c7d6a5cecd8c?source=---------50------------------',\n",
       " 'https://towardsdatascience.com/review-refinenet-multi-path-refinement-network-semantic-segmentation-5763d9da47c1?source=---------51------------------',\n",
       " 'https://towardsdatascience.com/review-refinenet-multi-path-refinement-network-semantic-segmentation-5763d9da47c1?source=---------51------------------',\n",
       " 'https://towardsdatascience.com/review-gbd-net-gbd-v1-gbd-v2-winner-of-ilsvrc-2016-object-detection-d625fbeadeac?source=---------52------------------',\n",
       " 'https://towardsdatascience.com/review-gbd-net-gbd-v1-gbd-v2-winner-of-ilsvrc-2016-object-detection-d625fbeadeac?source=---------52------------------',\n",
       " 'https://towardsdatascience.com/review-3d-u-net-volumetric-segmentation-medical-image-segmentation-8b592560fac1?source=---------53------------------',\n",
       " 'https://towardsdatascience.com/review-3d-u-net-volumetric-segmentation-medical-image-segmentation-8b592560fac1?source=---------53------------------',\n",
       " 'https://towardsdatascience.com/review-dpn-dual-path-networks-image-classification-d0135dce8817?source=---------54------------------',\n",
       " 'https://towardsdatascience.com/review-dpn-dual-path-networks-image-classification-d0135dce8817?source=---------54------------------',\n",
       " 'https://towardsdatascience.com/review-deeppose-cascade-of-cnn-human-pose-estimation-cf3170103e36?source=---------55------------------',\n",
       " 'https://towardsdatascience.com/review-deeppose-cascade-of-cnn-human-pose-estimation-cf3170103e36?source=---------55------------------',\n",
       " 'https://towardsdatascience.com/review-hypercolumn-instance-segmentation-367180495979?source=---------56------------------',\n",
       " 'https://towardsdatascience.com/review-hypercolumn-instance-segmentation-367180495979?source=---------56------------------',\n",
       " 'https://towardsdatascience.com/review-mr-cnn-s-cnn-multi-region-semantic-aware-cnns-object-detection-3bd4e5648fde?source=---------57------------------',\n",
       " 'https://towardsdatascience.com/review-mr-cnn-s-cnn-multi-region-semantic-aware-cnns-object-detection-3bd4e5648fde?source=---------57------------------',\n",
       " 'https://towardsdatascience.com/review-v-net-volumetric-convolution-biomedical-image-segmentation-aa15dbaea974?source=---------59------------------',\n",
       " 'https://towardsdatascience.com/review-v-net-volumetric-convolution-biomedical-image-segmentation-aa15dbaea974?source=---------59------------------',\n",
       " 'https://medium.com/datadriveninvestor/review-sds-simultaneous-detection-and-segmentation-instance-segmentation-80b2a8ce842b?source=---------60------------------',\n",
       " 'https://medium.com/datadriveninvestor/review-sds-simultaneous-detection-and-segmentation-instance-segmentation-80b2a8ce842b?source=---------60------------------',\n",
       " 'https://towardsdatascience.com/review-msdnet-multi-scale-dense-networks-image-classification-4d949955f6d5?source=---------61------------------',\n",
       " 'https://towardsdatascience.com/review-msdnet-multi-scale-dense-networks-image-classification-4d949955f6d5?source=---------61------------------',\n",
       " 'https://towardsdatascience.com/review-tompson-nips14-joint-training-of-cnn-and-graphical-model-human-pose-estimation-95016bc510c?source=---------62------------------',\n",
       " 'https://towardsdatascience.com/review-tompson-nips14-joint-training-of-cnn-and-graphical-model-human-pose-estimation-95016bc510c?source=---------62------------------',\n",
       " 'https://towardsdatascience.com/review-crf-rnn-conditional-random-fields-as-recurrent-neural-networks-semantic-segmentation-a11eb6e40c8c?source=---------63------------------',\n",
       " 'https://towardsdatascience.com/review-crf-rnn-conditional-random-fields-as-recurrent-neural-networks-semantic-segmentation-a11eb6e40c8c?source=---------63------------------',\n",
       " 'https://towardsdatascience.com/review-srdensenet-densenet-for-sr-super-resolution-cbee599de7e8?source=---------64------------------',\n",
       " 'https://towardsdatascience.com/review-srdensenet-densenet-for-sr-super-resolution-cbee599de7e8?source=---------64------------------',\n",
       " 'https://towardsdatascience.com/review-craft-cascade-region-proposal-network-and-fast-r-cnn-object-detection-2ce987361858?source=---------65------------------',\n",
       " 'https://towardsdatascience.com/review-craft-cascade-region-proposal-network-and-fast-r-cnn-object-detection-2ce987361858?source=---------65------------------',\n",
       " 'https://towardsdatascience.com/review-multichannel-segment-colon-histology-images-biomedical-image-segmentation-d7e57902fbfc?source=---------66------------------',\n",
       " 'https://towardsdatascience.com/review-multichannel-segment-colon-histology-images-biomedical-image-segmentation-d7e57902fbfc?source=---------66------------------',\n",
       " 'https://towardsdatascience.com/review-drn-dilated-residual-networks-image-classification-semantic-segmentation-d527e1a8fb5?source=---------67------------------',\n",
       " 'https://towardsdatascience.com/review-drn-dilated-residual-networks-image-classification-semantic-segmentation-d527e1a8fb5?source=---------67------------------',\n",
       " 'https://towardsdatascience.com/review-highway-networks-gating-function-to-highway-image-classification-5a33833797b5?source=---------68------------------',\n",
       " 'https://towardsdatascience.com/review-highway-networks-gating-function-to-highway-image-classification-5a33833797b5?source=---------68------------------',\n",
       " 'https://towardsdatascience.com/review-segnet-semantic-segmentation-e66f2e30fb96?source=---------70------------------',\n",
       " 'https://towardsdatascience.com/review-segnet-semantic-segmentation-e66f2e30fb96?source=---------70------------------',\n",
       " 'https://towardsdatascience.com/review-yolov3-you-only-look-once-object-detection-eab75d7a1ba6?source=---------71------------------',\n",
       " 'https://towardsdatascience.com/review-yolov3-you-only-look-once-object-detection-eab75d7a1ba6?source=---------71------------------',\n",
       " 'https://towardsdatascience.com/review-lapsrn-ms-lapsrn-laplacian-pyramid-super-resolution-network-super-resolution-c5fe2b65f5e8?source=---------72------------------',\n",
       " 'https://towardsdatascience.com/review-lapsrn-ms-lapsrn-laplacian-pyramid-super-resolution-network-super-resolution-c5fe2b65f5e8?source=---------72------------------',\n",
       " 'https://towardsdatascience.com/review-drrn-deep-recursive-residual-network-super-resolution-dca4a35ce994?source=---------73------------------',\n",
       " 'https://towardsdatascience.com/review-drrn-deep-recursive-residual-network-super-resolution-dca4a35ce994?source=---------73------------------',\n",
       " 'https://medium.com/datadriveninvestor/review-drcn-deeply-recursive-convolutional-network-super-resolution-f0a380f79b20?source=---------74------------------',\n",
       " 'https://medium.com/datadriveninvestor/review-drcn-deeply-recursive-convolutional-network-super-resolution-f0a380f79b20?source=---------74------------------',\n",
       " 'https://towardsdatascience.com/review-dcn-deformable-convolutional-networks-2nd-runner-up-in-2017-coco-detection-object-14e488efce44?source=---------75------------------',\n",
       " 'https://towardsdatascience.com/review-dcn-deformable-convolutional-networks-2nd-runner-up-in-2017-coco-detection-object-14e488efce44?source=---------75------------------',\n",
       " 'https://towardsdatascience.com/review-stn-spatial-transformer-network-image-classification-d3cbd98a70aa?source=---------76------------------',\n",
       " 'https://towardsdatascience.com/review-stn-spatial-transformer-network-image-classification-d3cbd98a70aa?source=---------76------------------',\n",
       " 'https://medium.com/@sh.tsang/review-pyramidnet-deep-pyramidal-residual-networks-image-classification-85a87b60ae78?source=---------77------------------',\n",
       " 'https://medium.com/@sh.tsang/review-pyramidnet-deep-pyramidal-residual-networks-image-classification-85a87b60ae78?source=---------77------------------',\n",
       " 'https://towardsdatascience.com/review-retinanet-focal-loss-object-detection-38fba6afabe4?source=---------78------------------',\n",
       " 'https://towardsdatascience.com/review-retinanet-focal-loss-object-detection-38fba6afabe4?source=---------78------------------',\n",
       " 'https://medium.com/datadriveninvestor/review-u-net-resnet-the-importance-of-long-short-skip-connections-biomedical-image-ccbf8061ff43?source=---------79------------------',\n",
       " 'https://medium.com/datadriveninvestor/review-u-net-resnet-the-importance-of-long-short-skip-connections-biomedical-image-ccbf8061ff43?source=---------79------------------',\n",
       " 'https://towardsdatascience.com/review-deeplabv3-atrous-convolution-semantic-segmentation-6d818bfd1d74?source=---------80------------------',\n",
       " 'https://towardsdatascience.com/review-deeplabv3-atrous-convolution-semantic-segmentation-6d818bfd1d74?source=---------80------------------',\n",
       " 'https://towardsdatascience.com/review-fpn-feature-pyramid-network-object-detection-262fc7482610?source=---------81------------------',\n",
       " 'https://towardsdatascience.com/review-fpn-feature-pyramid-network-object-detection-262fc7482610?source=---------81------------------',\n",
       " 'https://towardsdatascience.com/review-fcis-winner-in-2016-coco-segmentation-instance-segmentation-ee2d61f465e2?source=---------82------------------',\n",
       " 'https://towardsdatascience.com/review-fcis-winner-in-2016-coco-segmentation-instance-segmentation-ee2d61f465e2?source=---------82------------------',\n",
       " 'https://medium.com/datadriveninvestor/review-tdm-top-down-modulation-object-detection-3f0efe9e0151?source=---------83------------------',\n",
       " 'https://medium.com/datadriveninvestor/review-tdm-top-down-modulation-object-detection-3f0efe9e0151?source=---------83------------------',\n",
       " 'https://towardsdatascience.com/review-g-rmi-winner-in-2016-coco-detection-object-detection-af3f2eaf87e4?source=---------84------------------',\n",
       " 'https://towardsdatascience.com/review-g-rmi-winner-in-2016-coco-detection-object-detection-af3f2eaf87e4?source=---------84------------------',\n",
       " 'https://medium.com/datadriveninvestor/review-noc-winner-in-2015-coco-ilsvrc-detection-object-detection-d5cc84e372a?source=---------85------------------',\n",
       " 'https://medium.com/datadriveninvestor/review-noc-winner-in-2015-coco-ilsvrc-detection-object-detection-d5cc84e372a?source=---------85------------------',\n",
       " 'https://towardsdatascience.com/review-instancefcn-instance-sensitive-score-maps-instance-segmentation-dbfe67d4ee92?source=---------86------------------',\n",
       " 'https://towardsdatascience.com/review-instancefcn-instance-sensitive-score-maps-instance-segmentation-dbfe67d4ee92?source=---------86------------------',\n",
       " 'https://towardsdatascience.com/review-mnc-multi-task-network-cascade-winner-in-2015-coco-segmentation-instance-segmentation-42a9334e6a34?source=---------87------------------',\n",
       " 'https://towardsdatascience.com/review-mnc-multi-task-network-cascade-winner-in-2015-coco-segmentation-instance-segmentation-42a9334e6a34?source=---------87------------------',\n",
       " 'https://towardsdatascience.com/review-multipath-mpn-1st-runner-up-in-2015-coco-detection-segmentation-object-detection-ea9741e7c413?source=---------88------------------',\n",
       " 'https://towardsdatascience.com/review-multipath-mpn-1st-runner-up-in-2015-coco-detection-segmentation-object-detection-ea9741e7c413?source=---------88------------------',\n",
       " 'https://towardsdatascience.com/review-ion-inside-outside-net-2nd-runner-up-in-2015-coco-detection-object-detection-da19993f4766?source=---------89------------------',\n",
       " 'https://towardsdatascience.com/review-ion-inside-outside-net-2nd-runner-up-in-2015-coco-detection-object-detection-da19993f4766?source=---------89------------------',\n",
       " 'https://towardsdatascience.com/review-dssd-deconvolutional-single-shot-detector-object-detection-d4821a2bbeb5?source=---------90------------------',\n",
       " 'https://towardsdatascience.com/review-dssd-deconvolutional-single-shot-detector-object-detection-d4821a2bbeb5?source=---------90------------------',\n",
       " 'https://towardsdatascience.com/review-sharpmask-instance-segmentation-6509f7401a61?source=---------91------------------',\n",
       " 'https://towardsdatascience.com/review-sharpmask-instance-segmentation-6509f7401a61?source=---------91------------------',\n",
       " 'https://medium.com/datadriveninvestor/review-red-net-residual-encoder-decoder-network-denoising-super-resolution-cb6364ae161e?source=---------92------------------',\n",
       " 'https://medium.com/datadriveninvestor/review-red-net-residual-encoder-decoder-network-denoising-super-resolution-cb6364ae161e?source=---------92------------------',\n",
       " 'https://towardsdatascience.com/review-deepmask-instance-segmentation-30327a072339?source=---------93------------------',\n",
       " 'https://towardsdatascience.com/review-deepmask-instance-segmentation-30327a072339?source=---------93------------------',\n",
       " 'https://medium.com/datadriveninvestor/review-fractalnet-image-classification-c5bdd855a090?source=---------94------------------',\n",
       " 'https://medium.com/datadriveninvestor/review-fractalnet-image-classification-c5bdd855a090?source=---------94------------------',\n",
       " 'https://towardsdatascience.com/review-pspnet-winner-in-ilsvrc-2016-semantic-segmentation-scene-parsing-e089e5df177d?source=---------95------------------',\n",
       " 'https://towardsdatascience.com/review-pspnet-winner-in-ilsvrc-2016-semantic-segmentation-scene-parsing-e089e5df177d?source=---------95------------------',\n",
       " 'https://towardsdatascience.com/review-trimps-soushen-winner-in-ilsvrc-2016-image-classification-dfbc423111dd?source=---------96------------------',\n",
       " 'https://towardsdatascience.com/review-trimps-soushen-winner-in-ilsvrc-2016-image-classification-dfbc423111dd?source=---------96------------------',\n",
       " 'https://towardsdatascience.com/review-resnext-1st-runner-up-of-ilsvrc-2016-image-classification-15d7f17b42ac?source=---------97------------------',\n",
       " 'https://towardsdatascience.com/review-resnext-1st-runner-up-of-ilsvrc-2016-image-classification-15d7f17b42ac?source=---------97------------------',\n",
       " 'https://towardsdatascience.com/review-polynet-2nd-runner-up-in-ilsvrc-2016-image-classification-8a1a941ce9ea?source=---------98------------------',\n",
       " 'https://towardsdatascience.com/review-polynet-2nd-runner-up-in-ilsvrc-2016-image-classification-8a1a941ce9ea?source=---------98------------------',\n",
       " 'https://towardsdatascience.com/review-ror-resnet-of-resnet-multilevel-resnet-image-classification-cd3b0fcc19bb?source=---------99------------------',\n",
       " 'https://towardsdatascience.com/review-ror-resnet-of-resnet-multilevel-resnet-image-classification-cd3b0fcc19bb?source=---------99------------------',\n",
       " 'https://towardsdatascience.com/review-wrns-wide-residual-networks-image-classification-d3feb3fb2004?source=---------100------------------',\n",
       " 'https://towardsdatascience.com/review-wrns-wide-residual-networks-image-classification-d3feb3fb2004?source=---------100------------------',\n",
       " 'https://medium.com/datadriveninvestor/review-espcn-real-time-sr-super-resolution-8dceca249350?source=---------101------------------',\n",
       " 'https://medium.com/datadriveninvestor/review-espcn-real-time-sr-super-resolution-8dceca249350?source=---------101------------------',\n",
       " 'https://medium.com/@sh.tsang/review-rir-resnet-in-resnet-image-classification-be4c79fde8ba?source=---------102------------------',\n",
       " 'https://medium.com/@sh.tsang/review-rir-resnet-in-resnet-image-classification-be4c79fde8ba?source=---------102------------------',\n",
       " 'https://towardsdatascience.com/review-stochastic-depth-image-classification-a4e225807f4a?source=---------103------------------',\n",
       " 'https://towardsdatascience.com/review-stochastic-depth-image-classification-a4e225807f4a?source=---------103------------------',\n",
       " 'https://towardsdatascience.com/review-densenet-image-classification-b6631a8ef803?source=---------104------------------',\n",
       " 'https://towardsdatascience.com/review-densenet-image-classification-b6631a8ef803?source=---------104------------------',\n",
       " 'https://towardsdatascience.com/review-yolov2-yolo9000-you-only-look-once-object-detection-7883d2b02a65?source=---------105------------------',\n",
       " 'https://towardsdatascience.com/review-yolov2-yolo9000-you-only-look-once-object-detection-7883d2b02a65?source=---------105------------------',\n",
       " 'https://towardsdatascience.com/review-dilated-convolution-semantic-segmentation-9d5a5bd768f5?source=---------106------------------',\n",
       " 'https://towardsdatascience.com/review-dilated-convolution-semantic-segmentation-9d5a5bd768f5?source=---------106------------------',\n",
       " 'https://medium.com/datadriveninvestor/review-parsenet-looking-wider-to-see-better-semantic-segmentation-aa6b6a380990?source=---------107------------------',\n",
       " 'https://medium.com/datadriveninvestor/review-parsenet-looking-wider-to-see-better-semantic-segmentation-aa6b6a380990?source=---------107------------------',\n",
       " 'https://medium.com/datadriveninvestor/review-cfs-fcn-biomedical-image-segmentation-ae4c9c75bea6?source=---------108------------------',\n",
       " 'https://medium.com/datadriveninvestor/review-cfs-fcn-biomedical-image-segmentation-ae4c9c75bea6?source=---------108------------------',\n",
       " 'https://towardsdatascience.com/review-deeplabv1-deeplabv2-atrous-convolution-semantic-segmentation-b51c5fbde92d?source=---------109------------------',\n",
       " 'https://towardsdatascience.com/review-deeplabv1-deeplabv2-atrous-convolution-semantic-segmentation-b51c5fbde92d?source=---------109------------------',\n",
       " 'https://towardsdatascience.com/review-u-net-biomedical-image-segmentation-d02bf06ca760?source=---------110------------------',\n",
       " 'https://towardsdatascience.com/review-u-net-biomedical-image-segmentation-d02bf06ca760?source=---------110------------------',\n",
       " 'https://towardsdatascience.com/review-ssd-single-shot-detector-object-detection-851a94607d11?source=---------111------------------',\n",
       " 'https://towardsdatascience.com/review-ssd-single-shot-detector-object-detection-851a94607d11?source=---------111------------------',\n",
       " 'https://towardsdatascience.com/review-vdsr-super-resolution-f8050d49362f?source=---------112------------------',\n",
       " 'https://towardsdatascience.com/review-vdsr-super-resolution-f8050d49362f?source=---------112------------------',\n",
       " 'https://medium.com/datadriveninvestor/review-cumedvision2-dcan-winner-of-2015-miccai-gland-segmentation-challenge-contest-biomedical-878b5a443560?source=---------113------------------',\n",
       " 'https://medium.com/datadriveninvestor/review-cumedvision2-dcan-winner-of-2015-miccai-gland-segmentation-challenge-contest-biomedical-878b5a443560?source=---------113------------------',\n",
       " 'https://towardsdatascience.com/review-fsrcnn-super-resolution-80ca2ee14da4?source=---------114------------------',\n",
       " 'https://towardsdatascience.com/review-fsrcnn-super-resolution-80ca2ee14da4?source=---------114------------------',\n",
       " 'https://medium.com/datadriveninvestor/review-cumedvision1-fully-convolutional-network-biomedical-image-segmentation-5434280d6e6?source=---------115------------------',\n",
       " 'https://medium.com/datadriveninvestor/review-cumedvision1-fully-convolutional-network-biomedical-image-segmentation-5434280d6e6?source=---------115------------------',\n",
       " 'https://towardsdatascience.com/review-r-fcn-positive-sensitive-score-maps-object-detection-91cd2389345c?source=---------116------------------',\n",
       " 'https://towardsdatascience.com/review-r-fcn-positive-sensitive-score-maps-object-detection-91cd2389345c?source=---------116------------------',\n",
       " 'https://towardsdatascience.com/review-mobilenetv1-depthwise-separable-convolution-light-weight-model-a382df364b69?source=---------118------------------',\n",
       " 'https://towardsdatascience.com/review-mobilenetv1-depthwise-separable-convolution-light-weight-model-a382df364b69?source=---------118------------------',\n",
       " 'https://towardsdatascience.com/review-deconvnet-unpooling-layer-semantic-segmentation-55cf8a6e380e?source=---------119------------------',\n",
       " 'https://towardsdatascience.com/review-deconvnet-unpooling-layer-semantic-segmentation-55cf8a6e380e?source=---------119------------------',\n",
       " 'https://towardsdatascience.com/review-fcn-semantic-segmentation-eb8c9b50d2d1?source=---------120------------------',\n",
       " 'https://towardsdatascience.com/review-fcn-semantic-segmentation-eb8c9b50d2d1?source=---------120------------------',\n",
       " 'https://towardsdatascience.com/review-arcnn-deblocking-denoising-a098deeb792?source=---------121------------------',\n",
       " 'https://towardsdatascience.com/review-arcnn-deblocking-denoising-a098deeb792?source=---------121------------------',\n",
       " 'https://towardsdatascience.com/review-deepid-net-def-pooling-layer-object-detection-f72486f1a0f6?source=---------122------------------',\n",
       " 'https://towardsdatascience.com/review-deepid-net-def-pooling-layer-object-detection-f72486f1a0f6?source=---------122------------------',\n",
       " 'https://towardsdatascience.com/review-inception-v4-evolved-from-googlenet-merged-with-resnet-idea-image-classification-5e8c339d18bc?source=---------123------------------',\n",
       " 'https://towardsdatascience.com/review-inception-v4-evolved-from-googlenet-merged-with-resnet-idea-image-classification-5e8c339d18bc?source=---------123------------------',\n",
       " 'https://towardsdatascience.com/review-xception-with-depthwise-separable-convolution-better-than-inception-v3-image-dc967dd42568?source=---------124------------------',\n",
       " 'https://towardsdatascience.com/review-xception-with-depthwise-separable-convolution-better-than-inception-v3-image-dc967dd42568?source=---------124------------------',\n",
       " 'https://towardsdatascience.com/review-resnet-winner-of-ilsvrc-2015-image-classification-localization-detection-e39402bfa5d8?source=---------126------------------',\n",
       " 'https://towardsdatascience.com/review-resnet-winner-of-ilsvrc-2015-image-classification-localization-detection-e39402bfa5d8?source=---------126------------------',\n",
       " 'https://towardsdatascience.com/review-faster-r-cnn-object-detection-f5685cb30202?source=---------127------------------',\n",
       " 'https://towardsdatascience.com/review-faster-r-cnn-object-detection-f5685cb30202?source=---------127------------------',\n",
       " 'https://medium.com/@sh.tsang/review-deep-image-a-big-data-solution-for-image-recognition-99e5f7b1c802?source=---------128------------------',\n",
       " 'https://medium.com/@sh.tsang/review-deep-image-a-big-data-solution-for-image-recognition-99e5f7b1c802?source=---------128------------------',\n",
       " 'https://medium.com/@sh.tsang/review-inception-v3-1st-runner-up-image-classification-in-ilsvrc-2015-17915421f77c?source=---------129------------------',\n",
       " 'https://medium.com/@sh.tsang/review-inception-v3-1st-runner-up-image-classification-in-ilsvrc-2015-17915421f77c?source=---------129------------------',\n",
       " 'https://medium.com/@sh.tsang/review-batch-normalization-inception-v2-bn-inception-the-2nd-to-surpass-human-level-18e2d0f56651?source=---------130------------------',\n",
       " 'https://medium.com/@sh.tsang/review-batch-normalization-inception-v2-bn-inception-the-2nd-to-surpass-human-level-18e2d0f56651?source=---------130------------------',\n",
       " 'https://medium.com/coinmonks/review-srcnn-super-resolution-3cb3a4f67a7c?source=---------131------------------',\n",
       " 'https://medium.com/coinmonks/review-srcnn-super-resolution-3cb3a4f67a7c?source=---------131------------------',\n",
       " 'https://medium.com/coinmonks/review-fast-r-cnn-object-detection-a82e172e87ba?source=---------132------------------',\n",
       " 'https://medium.com/coinmonks/review-fast-r-cnn-object-detection-a82e172e87ba?source=---------132------------------',\n",
       " 'https://medium.com/coinmonks/review-prelu-net-the-first-to-surpass-human-level-performance-in-ilsvrc-2015-image-f619dddd5617?source=---------133------------------',\n",
       " 'https://medium.com/coinmonks/review-prelu-net-the-first-to-surpass-human-level-performance-in-ilsvrc-2015-image-f619dddd5617?source=---------133------------------',\n",
       " 'https://medium.com/coinmonks/review-sppnet-1st-runner-up-object-detection-2nd-runner-up-image-classification-in-ilsvrc-906da3753679?source=---------134------------------',\n",
       " 'https://medium.com/coinmonks/review-sppnet-1st-runner-up-object-detection-2nd-runner-up-image-classification-in-ilsvrc-906da3753679?source=---------134------------------',\n",
       " 'https://medium.com/coinmonks/review-r-cnn-object-detection-b476aba290d1?source=---------135------------------',\n",
       " 'https://medium.com/coinmonks/review-r-cnn-object-detection-b476aba290d1?source=---------135------------------',\n",
       " 'https://medium.com/coinmonks/review-of-overfeat-winner-of-ilsvrc-2013-localization-task-object-detection-a6f8b9044754?source=---------136------------------',\n",
       " 'https://medium.com/coinmonks/review-of-overfeat-winner-of-ilsvrc-2013-localization-task-object-detection-a6f8b9044754?source=---------136------------------']"
      ]
     },
     "execution_count": 63,
     "metadata": {},
     "output_type": "execute_result"
    }
   ],
   "source": [
    "review_articles"
   ]
  },
  {
   "cell_type": "code",
   "execution_count": 69,
   "metadata": {},
   "outputs": [
    {
     "data": {
      "text/plain": [
       "126"
      ]
     },
     "execution_count": 69,
     "metadata": {},
     "output_type": "execute_result"
    }
   ],
   "source": [
    "len(set(review_articles))"
   ]
  },
  {
   "cell_type": "code",
   "execution_count": 75,
   "metadata": {},
   "outputs": [
    {
     "data": {
      "application/vnd.jupyter.widget-view+json": {
       "model_id": "4cc418ac38b7467097e51d0fff49577e",
       "version_major": 2,
       "version_minor": 0
      },
      "text/plain": [
       "HBox(children=(IntProgress(value=0, max=1), HTML(value='')))"
      ]
     },
     "metadata": {},
     "output_type": "display_data"
    },
    {
     "name": "stdout",
     "output_type": "stream",
     "text": [
      "Done Scrolling\n",
      "Printing Document \n",
      "Completed printing Document https://towardsdatascience.com/review-polynet-2nd-runner-up-in-ilsvrc-2016-image-classification-8a1a941ce9ea?source=---------98------------------\n"
     ]
    }
   ],
   "source": [
    "from tqdm import tqdm_notebook as tqdm\n",
    "for article_url in tqdm(list(set(review_articles))[:1]):\n",
    "    browser.get(article_url)\n",
    "    time.sleep(45)\n",
    "    scroll2end(browser,sleep_time=30,infinite=False)\n",
    "#     time.sleep(20)\n",
    "    print('Printing Document ')\n",
    "    browser.execute_script('window.print();')\n",
    "    print(f'Completed printing Document {article_url}')\n",
    "    "
   ]
  },
  {
   "cell_type": "code",
   "execution_count": null,
   "metadata": {},
   "outputs": [],
   "source": [
    "browser.quit()\n"
   ]
  }
 ],
 "metadata": {
  "kernelspec": {
   "display_name": "Python 3",
   "language": "python",
   "name": "python3"
  },
  "language_info": {
   "codemirror_mode": {
    "name": "ipython",
    "version": 3
   },
   "file_extension": ".py",
   "mimetype": "text/x-python",
   "name": "python",
   "nbconvert_exporter": "python",
   "pygments_lexer": "ipython3",
   "version": "3.7.3"
  }
 },
 "nbformat": 4,
 "nbformat_minor": 2
}
